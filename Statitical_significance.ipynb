{
  "nbformat": 4,
  "nbformat_minor": 0,
  "metadata": {
    "colab": {
      "name": "Statitical significance.ipynb",
      "provenance": [],
      "collapsed_sections": [],
      "authorship_tag": "ABX9TyP2dKHS8Dg80F1oQxvUic6V",
      "include_colab_link": true
    },
    "kernelspec": {
      "name": "ir",
      "display_name": "R"
    }
  },
  "cells": [
    {
      "cell_type": "markdown",
      "metadata": {
        "id": "view-in-github",
        "colab_type": "text"
      },
      "source": [
        "<a href=\"https://colab.research.google.com/github/hamzaktk18/stats/blob/main/Statitical_significance.ipynb\" target=\"_parent\"><img src=\"https://colab.research.google.com/assets/colab-badge.svg\" alt=\"Open In Colab\"/></a>"
      ]
    },
    {
      "cell_type": "code",
      "metadata": {
        "colab": {
          "base_uri": "https://localhost:8080/"
        },
        "id": "7XlInXPZAHX0",
        "outputId": "c2f362a8-5821-4045-da91-ea7223c876f6"
      },
      "source": [
        "install.packages('rstatix')\r\n",
        "install.packages('ggpubr')\r\n",
        "install.packages('xlsx')\r\n",
        "install.packages('coin')"
      ],
      "execution_count": null,
      "outputs": [
        {
          "output_type": "stream",
          "text": [
            "Installing package into ‘/usr/local/lib/R/site-library’\n",
            "(as ‘lib’ is unspecified)\n",
            "\n",
            "also installing the dependencies ‘matrixStats’, ‘RcppArmadillo’, ‘numDeriv’, ‘SparseM’, ‘MatrixModels’, ‘conquer’, ‘sp’, ‘data.table’, ‘openxlsx’, ‘minqa’, ‘nloptr’, ‘statmod’, ‘RcppEigen’, ‘carData’, ‘abind’, ‘pbkrtest’, ‘quantreg’, ‘maptools’, ‘rio’, ‘lme4’, ‘corrplot’, ‘car’\n",
            "\n",
            "\n"
          ],
          "name": "stderr"
        }
      ]
    },
    {
      "cell_type": "code",
      "metadata": {
        "id": "pINKsXLL_vRB"
      },
      "source": [
        "# required libraries for graphics and statistical analysis\r\n",
        "library(tidyverse)\r\n",
        "library(rstatix)\r\n",
        "library(ggpubr)\r\n",
        "library(xlsx)"
      ],
      "execution_count": null,
      "outputs": []
    },
    {
      "cell_type": "code",
      "metadata": {
        "colab": {
          "base_uri": "https://localhost:8080/",
          "height": 189
        },
        "id": "oVMzn1y_Aw8j",
        "outputId": "288b4edf-9302-4f41-8009-e8f0ee56ddbc"
      },
      "source": [
        "# Load and inspect the data\r\n",
        "my_data <- read.xlsx(\"dataR-combined.xlsx\", 1)\r\n",
        "head(data, 3)"
      ],
      "execution_count": null,
      "outputs": [
        {
          "output_type": "display_data",
          "data": {
            "text/plain": [
              "  group amount\n",
              "1 logo  40000 \n",
              "2 logo  30000 \n",
              "3 logo  10400 "
            ],
            "text/latex": "A data.frame: 3 × 2\n\\begin{tabular}{r|ll}\n  & group & amount\\\\\n  & <chr> & <dbl>\\\\\n\\hline\n\t1 & logo & 40000\\\\\n\t2 & logo & 30000\\\\\n\t3 & logo & 10400\\\\\n\\end{tabular}\n",
            "text/markdown": "\nA data.frame: 3 × 2\n\n| <!--/--> | group &lt;chr&gt; | amount &lt;dbl&gt; |\n|---|---|---|\n| 1 | logo | 40000 |\n| 2 | logo | 30000 |\n| 3 | logo | 10400 |\n\n",
            "text/html": [
              "<table class=\"dataframe\">\n",
              "<caption>A data.frame: 3 × 2</caption>\n",
              "<thead>\n",
              "\t<tr><th></th><th scope=col>group</th><th scope=col>amount</th></tr>\n",
              "\t<tr><th></th><th scope=col>&lt;chr&gt;</th><th scope=col>&lt;dbl&gt;</th></tr>\n",
              "</thead>\n",
              "<tbody>\n",
              "\t<tr><th scope=row>1</th><td>logo</td><td>40000</td></tr>\n",
              "\t<tr><th scope=row>2</th><td>logo</td><td>30000</td></tr>\n",
              "\t<tr><th scope=row>3</th><td>logo</td><td>10400</td></tr>\n",
              "</tbody>\n",
              "</table>\n"
            ]
          },
          "metadata": {
            "tags": []
          }
        }
      ]
    },
    {
      "cell_type": "code",
      "metadata": {
        "colab": {
          "base_uri": "https://localhost:8080/",
          "height": 189
        },
        "id": "yK9B6LYuRfck",
        "outputId": "a8af9cca-554b-4f7f-9906-b2f4768511cd"
      },
      "source": [
        "# Load and inspect the data\r\n",
        "columns_data <- read.xlsx(\"dataR - columns.xlsx\", 1)\r\n",
        "head(data, 3)"
      ],
      "execution_count": null,
      "outputs": [
        {
          "output_type": "display_data",
          "data": {
            "text/plain": [
              "  group amount\n",
              "1 logo  40000 \n",
              "2 logo  30000 \n",
              "3 logo  10400 "
            ],
            "text/latex": "A data.frame: 3 × 2\n\\begin{tabular}{r|ll}\n  & group & amount\\\\\n  & <chr> & <dbl>\\\\\n\\hline\n\t1 & logo & 40000\\\\\n\t2 & logo & 30000\\\\\n\t3 & logo & 10400\\\\\n\\end{tabular}\n",
            "text/markdown": "\nA data.frame: 3 × 2\n\n| <!--/--> | group &lt;chr&gt; | amount &lt;dbl&gt; |\n|---|---|---|\n| 1 | logo | 40000 |\n| 2 | logo | 30000 |\n| 3 | logo | 10400 |\n\n",
            "text/html": [
              "<table class=\"dataframe\">\n",
              "<caption>A data.frame: 3 × 2</caption>\n",
              "<thead>\n",
              "\t<tr><th></th><th scope=col>group</th><th scope=col>amount</th></tr>\n",
              "\t<tr><th></th><th scope=col>&lt;chr&gt;</th><th scope=col>&lt;dbl&gt;</th></tr>\n",
              "</thead>\n",
              "<tbody>\n",
              "\t<tr><th scope=row>1</th><td>logo</td><td>40000</td></tr>\n",
              "\t<tr><th scope=row>2</th><td>logo</td><td>30000</td></tr>\n",
              "\t<tr><th scope=row>3</th><td>logo</td><td>10400</td></tr>\n",
              "</tbody>\n",
              "</table>\n"
            ]
          },
          "metadata": {
            "tags": []
          }
        }
      ]
    },
    {
      "cell_type": "code",
      "metadata": {
        "id": "RrngC-pPKkKd"
      },
      "source": [
        "#visual inspection of dara uploaded\r\n",
        "print(my_data)\r\n",
        "print(columns_data)"
      ],
      "execution_count": null,
      "outputs": []
    },
    {
      "cell_type": "code",
      "metadata": {
        "colab": {
          "base_uri": "https://localhost:8080/",
          "height": 158
        },
        "id": "0OdkYjnHKlVY",
        "outputId": "19c7dfcc-e2b0-4522-9ddf-149a00d4370e"
      },
      "source": [
        "# getting the count, mean, standard dev., median, and Interquartile range \r\n",
        "library(dplyr)\r\n",
        "group_by(my_data, group) %>%\r\n",
        "  summarise(\r\n",
        "    count = n(),\r\n",
        "    mean = mean(amount, na.rm = TRUE),\r\n",
        "    sd = sd(amount, na.rm = TRUE),\r\n",
        "    median = median(amount, na.rm = TRUE),\r\n",
        "    IQR = IQR(amount, na.rm = TRUE)\r\n",
        "  )"
      ],
      "execution_count": null,
      "outputs": [
        {
          "output_type": "display_data",
          "data": {
            "text/plain": [
              "  group count mean     sd       median IQR\n",
              "1 logo  857   281.0512 1847.169  50     75\n",
              "2 nol   413   353.6889 1684.156 100    150"
            ],
            "text/latex": "A tibble: 2 × 6\n\\begin{tabular}{r|llllll}\n  & group & count & mean & sd & median & IQR\\\\\n  & <chr> & <int> & <dbl> & <dbl> & <dbl> & <dbl>\\\\\n\\hline\n\t1 & logo & 857 & 281.0512 & 1847.169 &  50 &  75\\\\\n\t2 & nol  & 413 & 353.6889 & 1684.156 & 100 & 150\\\\\n\\end{tabular}\n",
            "text/markdown": "\nA tibble: 2 × 6\n\n| <!--/--> | group &lt;chr&gt; | count &lt;int&gt; | mean &lt;dbl&gt; | sd &lt;dbl&gt; | median &lt;dbl&gt; | IQR &lt;dbl&gt; |\n|---|---|---|---|---|---|---|\n| 1 | logo | 857 | 281.0512 | 1847.169 |  50 |  75 |\n| 2 | nol  | 413 | 353.6889 | 1684.156 | 100 | 150 |\n\n",
            "text/html": [
              "<table class=\"dataframe\">\n",
              "<caption>A tibble: 2 × 6</caption>\n",
              "<thead>\n",
              "\t<tr><th></th><th scope=col>group</th><th scope=col>count</th><th scope=col>mean</th><th scope=col>sd</th><th scope=col>median</th><th scope=col>IQR</th></tr>\n",
              "\t<tr><th></th><th scope=col>&lt;chr&gt;</th><th scope=col>&lt;int&gt;</th><th scope=col>&lt;dbl&gt;</th><th scope=col>&lt;dbl&gt;</th><th scope=col>&lt;dbl&gt;</th><th scope=col>&lt;dbl&gt;</th></tr>\n",
              "</thead>\n",
              "<tbody>\n",
              "\t<tr><th scope=row>1</th><td>logo</td><td>857</td><td>281.0512</td><td>1847.169</td><td> 50</td><td> 75</td></tr>\n",
              "\t<tr><th scope=row>2</th><td>nol </td><td>413</td><td>353.6889</td><td>1684.156</td><td>100</td><td>150</td></tr>\n",
              "</tbody>\n",
              "</table>\n"
            ]
          },
          "metadata": {
            "tags": []
          }
        }
      ]
    },
    {
      "cell_type": "code",
      "metadata": {
        "colab": {
          "base_uri": "https://localhost:8080/",
          "height": 437
        },
        "id": "o6ocyNE8KyPS",
        "outputId": "15f6b1d7-006a-4968-d67d-698ebb65959c"
      },
      "source": [
        "#plotting to check values \r\n",
        "#outliers identified \r\n",
        "library(\"ggpubr\")\r\n",
        "ggboxplot(my_data, x = \"group\", y = \"amount\", \r\n",
        "          color = \"group\", palette = c(\"#00AFBB\", \"#E7B800\"),\r\n",
        "        ylab = \"amount\", xlab = \"Groups\")"
      ],
      "execution_count": null,
      "outputs": [
        {
          "output_type": "display_data",
          "data": {
            "image/png": "[encoded data removed]",
            "text/plain": [
              "plot without title"
            ]
          },
          "metadata": {
            "tags": [],
            "image/png": {
              "width": 420,
              "height": 420
            }
          }
        }
      ]
    },
    {
      "cell_type": "code",
      "metadata": {
        "colab": {
          "base_uri": "https://localhost:8080/",
          "height": 191
        },
        "id": "UEJK-IFPK_xg",
        "outputId": "6cd2d480-b166-4395-f8bc-e266cb894ece"
      },
      "source": [
        "# Shapiro-Wilk normality test for logo\r\n",
        "with(my_data, shapiro.test(amount[group == \"logo\"]))# p = 0.1\r\n",
        "# Shapiro-Wilk normality test for nol\r\n",
        "with(my_data, shapiro.test(amount[group == \"nol\"])) # p = 0.6"
      ],
      "execution_count": null,
      "outputs": [
        {
          "output_type": "display_data",
          "data": {
            "text/plain": [
              "\n",
              "\tShapiro-Wilk normality test\n",
              "\n",
              "data:  amount[group == \"logo\"]\n",
              "W = 0.096921, p-value < 2.2e-16\n"
            ]
          },
          "metadata": {
            "tags": []
          }
        },
        {
          "output_type": "display_data",
          "data": {
            "text/plain": [
              "\n",
              "\tShapiro-Wilk normality test\n",
              "\n",
              "data:  amount[group == \"nol\"]\n",
              "W = 0.15872, p-value < 2.2e-16\n"
            ]
          },
          "metadata": {
            "tags": []
          }
        }
      ]
    },
    {
      "cell_type": "code",
      "metadata": {
        "id": "3wp_UGeUQNnu"
      },
      "source": [
        "#columns to variables\r\n",
        "x = columns_data$logo\r\n",
        "y = columns_data$nol"
      ],
      "execution_count": null,
      "outputs": []
    },
    {
      "cell_type": "code",
      "metadata": {
        "colab": {
          "base_uri": "https://localhost:8080/",
          "height": 35
        },
        "id": "3x1GjybxSLfm",
        "outputId": "60ab4234-bb7b-42ca-b66c-9eae66e7199f"
      },
      "source": [
        "head(y, 3)"
      ],
      "execution_count": null,
      "outputs": [
        {
          "output_type": "display_data",
          "data": {
            "text/plain": [
              "[1] 25000 15000 15000"
            ],
            "text/latex": "\\begin{enumerate*}\n\\item 25000\n\\item 15000\n\\item 15000\n\\end{enumerate*}\n",
            "text/markdown": "1. 25000\n2. 15000\n3. 15000\n\n\n",
            "text/html": [
              "<style>\n",
              ".list-inline {list-style: none; margin:0; padding: 0}\n",
              ".list-inline>li {display: inline-block}\n",
              ".list-inline>li:not(:last-child)::after {content: \"\\00b7\"; padding: 0 .5ex}\n",
              "</style>\n",
              "<ol class=list-inline><li>25000</li><li>15000</li><li>15000</li></ol>\n"
            ]
          },
          "metadata": {
            "tags": []
          }
        }
      ]
    },
    {
      "cell_type": "code",
      "metadata": {
        "colab": {
          "base_uri": "https://localhost:8080/",
          "height": 118
        },
        "id": "1Jt6b71tQBL6",
        "outputId": "38563074-a44b-415c-a6a2-657db6be9295"
      },
      "source": [
        "#Wilcox testing \r\n",
        "res <- wilcox.test(x, y)\r\n",
        "res"
      ],
      "execution_count": null,
      "outputs": [
        {
          "output_type": "display_data",
          "data": {
            "text/plain": [
              "\n",
              "\tWilcoxon rank sum test with continuity correction\n",
              "\n",
              "data:  x and y\n",
              "W = 148073, p-value = 1.724e-06\n",
              "alternative hypothesis: true location shift is not equal to 0\n"
            ]
          },
          "metadata": {
            "tags": []
          }
        }
      ]
    },
    {
      "cell_type": "code",
      "metadata": {
        "colab": {
          "base_uri": "https://localhost:8080/",
          "height": 118
        },
        "id": "i64u1knDSwaw",
        "outputId": "8ce4e049-7de2-4615-eda0-97e962ec4e65"
      },
      "source": [
        "res1 <- wilcox.test(amount ~ group, data = my_data,\r\n",
        "                   exact = FALSE)\r\n",
        "res1"
      ],
      "execution_count": null,
      "outputs": [
        {
          "output_type": "display_data",
          "data": {
            "text/plain": [
              "\n",
              "\tWilcoxon rank sum test with continuity correction\n",
              "\n",
              "data:  amount by group\n",
              "W = 148073, p-value = 1.724e-06\n",
              "alternative hypothesis: true location shift is not equal to 0\n"
            ]
          },
          "metadata": {
            "tags": []
          }
        }
      ]
    },
    {
      "cell_type": "code",
      "metadata": {
        "colab": {
          "base_uri": "https://localhost:8080/",
          "height": 35
        },
        "id": "-qJgvWNfS9Xd",
        "outputId": "aefd952c-5dda-4801-9227-db07b49c48dc"
      },
      "source": [
        "# Print the p-value only\r\n",
        "res$p.value"
      ],
      "execution_count": null,
      "outputs": [
        {
          "output_type": "display_data",
          "data": {
            "text/plain": [
              "[1] 1.72406e-06"
            ],
            "text/latex": "1.72406041421611e-06",
            "text/markdown": "1.72406041421611e-06",
            "text/html": [
              "1.72406041421611e-06"
            ]
          },
          "metadata": {
            "tags": []
          }
        }
      ]
    },
    {
      "cell_type": "markdown",
      "metadata": {
        "id": "HCEeDhy1VIgf"
      },
      "source": [
        "our P value is 0.00000172406, which is less than our alpha = 0.05 threshold. Reject Null hypothesis."
      ]
    },
    {
      "cell_type": "code",
      "metadata": {
        "colab": {
          "base_uri": "https://localhost:8080/",
          "height": 121
        },
        "id": "0UbCbR6oTJ8f",
        "outputId": "c34d1602-eae6-4426-a957-ff2258b6548d"
      },
      "source": [
        "wilcox.test(amount ~ group, data = my_data, \r\n",
        "        exact = FALSE, alternative = \"less\")"
      ],
      "execution_count": null,
      "outputs": [
        {
          "output_type": "display_data",
          "data": {
            "text/plain": [
              "\n",
              "\tWilcoxon rank sum test with continuity correction\n",
              "\n",
              "data:  amount by group\n",
              "W = 148073, p-value = 8.62e-07\n",
              "alternative hypothesis: true location shift is less than 0\n"
            ]
          },
          "metadata": {
            "tags": []
          }
        }
      ]
    },
    {
      "cell_type": "markdown",
      "metadata": {
        "id": "Ts3Ls02yUJKP"
      },
      "source": [
        "if you want to test your dataset please visit this online calculator: http://www.sthda.com/english/rsthda/unpaired-wilcoxon.php (independent 2 sample Wilcoxon test)\r\n",
        "When do we use Wilcoxon test? \r\n",
        "- Monday to Friday 11am to 4pm, jk:\r\n",
        "  - The Wilcoxon rank-sum test is commonly used for the comparison of two groups of nonparametric (interval or not normally distributed) data, such as those which are not measured exactly but rather as falling within certain limits."
      ]
    }
  ]
}